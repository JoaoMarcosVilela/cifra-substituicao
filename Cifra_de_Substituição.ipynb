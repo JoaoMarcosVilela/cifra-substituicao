{
  "nbformat": 4,
  "nbformat_minor": 0,
  "metadata": {
    "colab": {
      "provenance": []
    },
    "kernelspec": {
      "name": "python3",
      "display_name": "Python 3"
    },
    "language_info": {
      "name": "python"
    }
  },
  "cells": [
    {
      "cell_type": "markdown",
      "source": [
        "# Cifra de Substituição"
      ],
      "metadata": {
        "id": "B1J2Xu2SCcY0"
      }
    },
    {
      "cell_type": "code",
      "source": [
        "def cifra_de_substituicao(texto, chave, modo):\n",
        "    alfabeto = 'abcdefghijklmnopqrstuvwxyzABCDEFGHIJKLMNOPQRSTUVWXYZ0123456789 ,;._#*\"-+'\n",
        "    tamanho_alfabeto = len(alfabeto)\n",
        "    resultado = \"\"\n",
        "    index_atual_da_chave = 0\n",
        "\n",
        "    # Verificações realizadas para testar o alfabeto, chave e modo antes da execução\n",
        "    if any(caractere not in alfabeto for caractere in texto):\n",
        "        raise ValueError(\"Texto contém caracteres inválidos\")\n",
        "\n",
        "    if any(caractere not in alfabeto for caractere in chave):\n",
        "        raise ValueError(\"Chave contém caracteres inválidos\")\n",
        "\n",
        "    if not chave:\n",
        "        raise ValueError(\"A chave não pode estar vazia\")\n",
        "\n",
        "    if modo not in ('encriptar', 'decriptar'):\n",
        "        raise ValueError(\"Modo inválido. Use 'encriptar' ou 'decriptar'\")\n",
        "\n",
        "    for caractere in texto:\n",
        "        # Posição do caractere no vetor do alfabeto\n",
        "        index_caractere = alfabeto.index(caractere)\n",
        "\n",
        "        # Posição no alfateto da letra correspodente da chave\n",
        "        index_chave = alfabeto.index(chave[index_atual_da_chave % len(chave)])\n",
        "\n",
        "        # Deslocamento no alfabeto para saber se é para encripitar ou criptar\n",
        "        deslocamento = 0\n",
        "        if modo == 'encriptar':\n",
        "            deslocamento = index_chave\n",
        "        else:\n",
        "            deslocamento = -index_chave\n",
        "\n",
        "        # Calcula nova possição para ser o novo caracter\n",
        "        novo_index = (index_caractere + deslocamento) % tamanho_alfabeto\n",
        "        resultado += alfabeto[novo_index]\n",
        "\n",
        "        # Desloca o index da chave para a próxima letra\n",
        "        index_atual_da_chave += 1\n",
        "\n",
        "    return resultado\n",
        "\n",
        "\n",
        "\n",
        "chave = str(input(\"Digite a chave: \"))\n",
        "texto_claro = str(input(\"Digite o texto para cifrar: \"))\n",
        "\n",
        "print(\"---------------------------\")\n",
        "print(\"Testando o cifrador\")\n",
        "print(\"\")\n",
        "\n",
        "try:\n",
        "    texto_cifrado = cifra_de_substituicao(texto_claro, chave, modo='encriptar')\n",
        "    print(f\"Chave: {chave}\")\n",
        "    print(f\"Texto claro: {texto_claro}\")\n",
        "    print(f\"Texto cifrado: {texto_cifrado}\")\n",
        "\n",
        "\n",
        "    print(\"---------------------------\")\n",
        "    print(\"Testando o desifrador\")\n",
        "    print(\"\")\n",
        "    texto_decifrado = cifra_de_substituicao(texto_cifrado, chave, modo='decriptar')\n",
        "    print(f\"Texto decifrado: {texto_decifrado}\")\n",
        "    print(f\"Texto cifrado: {texto_cifrado}\")\n",
        "\n",
        "\n",
        "except ValueError as e:\n",
        "    print(f\"Erro: {e}\")\n",
        "\n",
        "print(\"---------------------------\")\n",
        "print(\"Testando caracteres invalidos\")\n",
        "print(\"\")\n",
        "\n",
        "# Teste com caracteres inválidos\n",
        "try:\n",
        "    texto_invalido = str(input(\"Digite um texto com caracter invalido: \"))\n",
        "    texto_cifrado_invalido = cifra_de_substituicao(texto_invalido, chave, modo='encriptar')\n",
        "    print(f\"Chave: {chave}\")\n",
        "    print(f\"Texto claro: {texto_invalido}\")\n",
        "    print(f\"Texto cifrado: {texto_cifrado_invalido}\")\n",
        "except ValueError as e:\n",
        "    print(f\"Mensagme do erro: {e}\")"
      ],
      "metadata": {
        "colab": {
          "base_uri": "https://localhost:8080/"
        },
        "id": "2mnHpgUHGR96",
        "outputId": "49ff26ec-2147-4e6a-af57-4e36f47d095f"
      },
      "execution_count": 32,
      "outputs": [
        {
          "output_type": "stream",
          "name": "stdout",
          "text": [
            "Digite a chave: IfPe\n",
            "Digite o texto para cifrar: \"J.; #\n",
            "---------------------------\n",
            "Testando o cifrador\n",
            "\n",
            "Chave: IfPe\n",
            "Texto claro: \"J.; #\n",
            "Texto cifrado: FOI*ya\n",
            "---------------------------\n",
            "Testando o desifrador\n",
            "\n",
            "Texto decifrado: \"J.; #\n",
            "Texto cifrado: FOI*ya\n",
            "---------------------------\n",
            "Testando caracteres invalidos\n",
            "\n",
            "Digite um texto com caracter invalido: @Joao\n",
            "Mensagme do erro: Texto contém caracteres inválidos\n"
          ]
        }
      ]
    }
  ]
}